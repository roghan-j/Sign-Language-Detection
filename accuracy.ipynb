{
 "cells": [
  {
   "attachments": {},
   "cell_type": "markdown",
   "metadata": {},
   "source": [
    "<h1>Accuracy of Models</h1>"
   ]
  },
  {
   "attachments": {},
   "cell_type": "markdown",
   "metadata": {},
   "source": [
    "<h3>Accuracy Finder Function</h3>"
   ]
  },
  {
   "cell_type": "code",
   "execution_count": 2,
   "metadata": {},
   "outputs": [],
   "source": [
    "def accuracy(model, sen_1, sen_2, action):\n",
    "    idx= {}\n",
    "\n",
    "    for i,j in enumerate(model):\n",
    "        idx[j]= i\n",
    "\n",
    "    cm= [[0]*len(model) for _ in range(len(model))]\n",
    "\n",
    "    for i in range(len(action)):\n",
    "\n",
    "        for j in range(len(action[i])):\n",
    "\n",
    "            if i<=3:\n",
    "                r= idx[action[i][j]]\n",
    "                c= idx[sen_1[j]]\n",
    "                cm[r][c]+=1\n",
    "\n",
    "            else:\n",
    "                r= idx[action[i][j]]\n",
    "                c= idx[sen_2[j]]\n",
    "                cm[r][c]+=1\n",
    "\n",
    "    s= 0\n",
    "\n",
    "    for i in range(len(cm)):\n",
    "        s+= cm[i][i]\n",
    "\n",
    "    accuracy= s/((len(sen_1)+len(sen_2))*4)\n",
    "\n",
    "    return accuracy"
   ]
  },
  {
   "attachments": {},
   "cell_type": "markdown",
   "metadata": {},
   "source": [
    "<i>`Model-1`</i>"
   ]
  },
  {
   "cell_type": "code",
   "execution_count": 3,
   "metadata": {},
   "outputs": [],
   "source": [
    "model= [\"fishing\", \"I\", \"love\", \"favourite\", \"hobby\", \"my\", \"you\", \"family\", \"feel\", \"bad\", \"sorry\"]\n",
    "\n",
    "sen_1= [\"fishing\", \"I\", \"love\", \"favourite\", \"hobby\", \"my\"]\n",
    "sen_2= [\"you\", \"family\", \"feel\", \"bad\", \"sorry\"]\n",
    "\n",
    "action= [\n",
    "    [\"fishing\", \"I\", \"love\", \"favourite\", \"hobby\", \"my\"],\n",
    "    [\"love\", \"I\", \"love\", \"favourite\", \"hobby\", \"my\"],\n",
    "    [\"hobby\", \"I\", \"love\", \"hobby\", \"hobby\", \"I\"],\n",
    "    [\"fishing\", \"I\", \"love\", \"favourite\", \"hobby\", \"love\"],\n",
    "    [\"you\", \"family\", \"feel\", \"bad\", \"feel\"],\n",
    "    [\"you\", \"family\", \"feel\", \"bad\", \"sorry\"],\n",
    "    [\"you\", \"family\", \"feel\", \"family\", \"sorry\"],\n",
    "    [\"you\", \"family\", \"feel\", \"bad\", \"feel\"],\n",
    "]\n",
    "\n",
    "acc_1= accuracy(model, sen_1, sen_2, action)"
   ]
  },
  {
   "attachments": {},
   "cell_type": "markdown",
   "metadata": {},
   "source": [
    "<i>`Model-2`</i>"
   ]
  },
  {
   "cell_type": "code",
   "execution_count": 4,
   "metadata": {},
   "outputs": [],
   "source": [
    "model= [\"I love you\", \"heart\", \"my\", \"home\", \"I\", \"live\", \"inside\", \"beautiful\"]\n",
    "\n",
    "sen_1= [\"I love you\", \"heart\", \"inside\"]\n",
    "sen_2= [\"my\", \"home\", \"I\", \"live\", \"inside\", \"beautiful\"]\n",
    "\n",
    "action= [\n",
    "    [\"I love you\", \"heart\", \"inside\"],\n",
    "    [\"I love you\", \"heart\", \"heart\"],\n",
    "    [\"I love you\", \"inside\", \"inside\"],\n",
    "    [\"I love you\", \"heart\", \"I love you\"],\n",
    "    [\"my\", \"home\", \"I\", \"live\", \"inside\", \"home\"],\n",
    "    [\"my\", \"home\", \"I\", \"home\", \"inside\", \"beautiful\"],\n",
    "    [\"my\", \"home\", \"I\", \"live\", \"I\", \"beautiful\"],\n",
    "    [\"my\", \"home\", \"I\", \"live\", \"inside\", \"I\"],\n",
    "]\n",
    "\n",
    "acc_2= accuracy(model, sen_1, sen_2, action)"
   ]
  },
  {
   "attachments": {},
   "cell_type": "markdown",
   "metadata": {},
   "source": [
    "<i>`Model-3`</i>"
   ]
  },
  {
   "cell_type": "code",
   "execution_count": 5,
   "metadata": {},
   "outputs": [],
   "source": [
    "model= [\"clean\", \"home\", \"help\", \"thank you\", \"arrive\", \"learn\", \"start\"]\n",
    "\n",
    "sen_1= [\"clean\", \"home\", \"help\", \"thank you\"]\n",
    "sen_2= [\"home\",  \"arrive\", \"learn\", \"start\"]\n",
    "\n",
    "action= [\n",
    "    [\"clean\", \"home\", \"help\", \"thank you\"],\n",
    "    [\"clean\", \"clean\", \"help\", \"thank you\"],\n",
    "    [\"clean\", \"home\", \"home\", \"thank you\"],\n",
    "    [\"clean\", \"home\", \"clean\", \"thank you\"],\n",
    "    [\"home\",  \"arrive\", \"learn\", \"clean\"],\n",
    "    [\"home\",  \"help\", \"learn\", \"start\"],\n",
    "    [\"home\",  \"arrive\", \"clean\", \"start\"],\n",
    "    [\"home\",  \"arrive\", \"learn\", \"start\"],\n",
    "]\n",
    "\n",
    "acc_3= accuracy(model, sen_1, sen_2, action)"
   ]
  },
  {
   "attachments": {},
   "cell_type": "markdown",
   "metadata": {},
   "source": [
    "<i>`Model-4`</i>"
   ]
  },
  {
   "cell_type": "code",
   "execution_count": 6,
   "metadata": {},
   "outputs": [],
   "source": [
    "model= [\"love\", \"go\", \"with\", \"you\", \"good\", \"day\", \"I\", \"think\", \"happen\"]\n",
    "\n",
    "sen_1= [\"love\", \"go\", \"with\", \"you\"]\n",
    "sen_2= [\"good\", \"day\", \"I\", \"think\", \"happen\"]\n",
    "\n",
    "action= [\n",
    "    [\"love\", \"go\", \"with\", \"you\"],\n",
    "    [\"love\", \"go\", \"with\", \"with\"],\n",
    "    [\"go\", \"go\", \"with\", \"you\"],\n",
    "    [\"love\", \"go\", \"with\", \"you\"],\n",
    "    [\"good\", \"day\", \"I\", \"think\", \"love\"],\n",
    "    [\"think\", \"day\", \"I\", \"think\", \"happen\"],\n",
    "    [\"good\", \"day\", \"love\", \"think\", \"happen\"],\n",
    "    [\"good\", \"day\", \"I\", \"think\", \"happen\"],\n",
    "]\n",
    "\n",
    "acc_4= accuracy(model, sen_1, sen_2, action)"
   ]
  },
  {
   "attachments": {},
   "cell_type": "markdown",
   "metadata": {},
   "source": [
    "<i>`Model-5`</i>"
   ]
  },
  {
   "cell_type": "code",
   "execution_count": 7,
   "metadata": {},
   "outputs": [],
   "source": [
    "model= [\"hello\", \"need\", \"talk\", \"you\", \"about\", \"health\", \"feel\", \"sick\", \"cold\", \"my\", \"have\"]\n",
    "\n",
    "sen_1= [\"hello\", \"need\", \"talk\", \"you\", \"about\", \"health\"]\n",
    "sen_2= [\"feel\", \"sick\", \"cold\", \"my\", \"have\"]\n",
    "\n",
    "action= [\n",
    "    [\"hello\", \"need\", \"talk\", \"you\", \"about\", \"health\"],\n",
    "    [\"hello\", \"need\", \"talk\", \"you\", \"about\", \"health\"],\n",
    "    [\"about\", \"need\", \"talk\", \"hello\", \"about\", \"health\"],\n",
    "    [\"hello\", \"talk\", \"talk\", \"you\", \"about\", \"hello\"],\n",
    "    [\"feel\", \"sick\", \"cold\", \"my\", \"sick\"],\n",
    "    [\"feel\", \"sick\", \"cold\", \"my\", \"have\"],\n",
    "    [\"cold\", \"sick\", \"cold\", \"sick\", \"have\"],\n",
    "    [\"feel\", \"feel\", \"cold\", \"my\", \"feel\"],\n",
    "]\n",
    "\n",
    "acc_5= accuracy(model, sen_1, sen_2, action)"
   ]
  },
  {
   "attachments": {},
   "cell_type": "markdown",
   "metadata": {},
   "source": [
    "<h3>Visualize Data</h3>"
   ]
  },
  {
   "cell_type": "code",
   "execution_count": 8,
   "metadata": {},
   "outputs": [],
   "source": [
    "import numpy as np\n",
    "import matplotlib.pyplot as plt\n",
    "import pandas as pd"
   ]
  },
  {
   "cell_type": "code",
   "execution_count": 9,
   "metadata": {},
   "outputs": [],
   "source": [
    "df= pd.DataFrame({\n",
    "    'name': [\"Model-1\", \"Model-2\", \"Model-3\", \"Model-4\", \"Model-5\"],\n",
    "    'accuracy': [acc_1, acc_2, acc_3, acc_4, acc_5],\n",
    "    'vocab': [11, 8, 7, 9, 11]\n",
    "})"
   ]
  },
  {
   "cell_type": "code",
   "execution_count": 10,
   "metadata": {},
   "outputs": [
    {
     "data": {
      "text/html": [
       "<div>\n",
       "<style scoped>\n",
       "    .dataframe tbody tr th:only-of-type {\n",
       "        vertical-align: middle;\n",
       "    }\n",
       "\n",
       "    .dataframe tbody tr th {\n",
       "        vertical-align: top;\n",
       "    }\n",
       "\n",
       "    .dataframe thead th {\n",
       "        text-align: right;\n",
       "    }\n",
       "</style>\n",
       "<table border=\"1\" class=\"dataframe\">\n",
       "  <thead>\n",
       "    <tr style=\"text-align: right;\">\n",
       "      <th></th>\n",
       "      <th>name</th>\n",
       "      <th>accuracy</th>\n",
       "      <th>vocab</th>\n",
       "    </tr>\n",
       "  </thead>\n",
       "  <tbody>\n",
       "    <tr>\n",
       "      <th>0</th>\n",
       "      <td>Model-1</td>\n",
       "      <td>0.818182</td>\n",
       "      <td>11</td>\n",
       "    </tr>\n",
       "    <tr>\n",
       "      <th>1</th>\n",
       "      <td>Model-2</td>\n",
       "      <td>0.805556</td>\n",
       "      <td>8</td>\n",
       "    </tr>\n",
       "    <tr>\n",
       "      <th>2</th>\n",
       "      <td>Model-3</td>\n",
       "      <td>0.812500</td>\n",
       "      <td>7</td>\n",
       "    </tr>\n",
       "    <tr>\n",
       "      <th>3</th>\n",
       "      <td>Model-4</td>\n",
       "      <td>0.861111</td>\n",
       "      <td>9</td>\n",
       "    </tr>\n",
       "    <tr>\n",
       "      <th>4</th>\n",
       "      <td>Model-5</td>\n",
       "      <td>0.795455</td>\n",
       "      <td>11</td>\n",
       "    </tr>\n",
       "  </tbody>\n",
       "</table>\n",
       "</div>"
      ],
      "text/plain": [
       "      name  accuracy  vocab\n",
       "0  Model-1  0.818182     11\n",
       "1  Model-2  0.805556      8\n",
       "2  Model-3  0.812500      7\n",
       "3  Model-4  0.861111      9\n",
       "4  Model-5  0.795455     11"
      ]
     },
     "execution_count": 10,
     "metadata": {},
     "output_type": "execute_result"
    }
   ],
   "source": [
    "df"
   ]
  },
  {
   "attachments": {},
   "cell_type": "markdown",
   "metadata": {},
   "source": [
    "<h5>Comparison of accuracy between the models</h5>"
   ]
  },
  {
   "cell_type": "code",
   "execution_count": 11,
   "metadata": {},
   "outputs": [
    {
     "data": {
      "text/plain": [
       "Text(0, 0.5, 'Accuracy of Model')"
      ]
     },
     "execution_count": 11,
     "metadata": {},
     "output_type": "execute_result"
    },
    {
     "data": {
      "image/png": "[encoded data removed]",
      "text/plain": [
       "<Figure size 640x480 with 1 Axes>"
      ]
     },
     "metadata": {},
     "output_type": "display_data"
    }
   ],
   "source": [
    "plt.bar(df['name'], df['accuracy'])\n",
    "plt.ylim(0.7, 1)\n",
    "plt.xlabel(\"Model Name\")\n",
    "plt.ylabel(\"Accuracy of Model\")"
   ]
  },
  {
   "attachments": {},
   "cell_type": "markdown",
   "metadata": {},
   "source": [
    "`As we can see from the above graph we can conclude that Model-4 performs relatively better compared to all the other models`"
   ]
  },
  {
   "attachments": {},
   "cell_type": "markdown",
   "metadata": {},
   "source": [
    "<h5>Comparison of accuracy with the vocabulary length of the model</h5>"
   ]
  },
  {
   "cell_type": "code",
   "execution_count": 12,
   "metadata": {},
   "outputs": [
    {
     "data": {
      "text/plain": [
       "Text(0, 0.5, 'Accuracy of Model')"
      ]
     },
     "execution_count": 12,
     "metadata": {},
     "output_type": "execute_result"
    },
    {
     "data": {
      "image/png": "[encoded data removed]",
      "text/plain": [
       "<Figure size 640x480 with 1 Axes>"
      ]
     },
     "metadata": {},
     "output_type": "display_data"
    }
   ],
   "source": [
    "plt.scatter(df['vocab'], df['accuracy'])\n",
    "plt.xlabel(\"Vocabulary Size\")\n",
    "plt.ylabel(\"Accuracy of Model\")"
   ]
  },
  {
   "attachments": {},
   "cell_type": "markdown",
   "metadata": {},
   "source": [
    "`As we can see from the graph, 9 words for vocabulary seems to be ideal for the prediction of words in the model`"
   ]
  }
 ],
 "metadata": {
  "kernelspec": {
   "display_name": "Python 3",
   "language": "python",
   "name": "python3"
  },
  "language_info": {
   "codemirror_mode": {
    "name": "ipython",
    "version": 3
   },
   "file_extension": ".py",
   "mimetype": "text/x-python",
   "name": "python",
   "nbconvert_exporter": "python",
   "pygments_lexer": "ipython3",
   "version": "3.10.8"
  },
  "orig_nbformat": 4
 },
 "nbformat": 4,
 "nbformat_minor": 2
}
